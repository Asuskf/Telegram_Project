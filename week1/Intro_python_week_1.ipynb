{
  "nbformat": 4,
  "nbformat_minor": 0,
  "metadata": {
    "colab": {
      "name": "Intro_python_week_1.ipynb",
      "provenance": [],
      "collapsed_sections": [],
      "authorship_tag": "ABX9TyPcIReFi8ojGYSDXrE/Sk+6",
      "include_colab_link": true
    },
    "kernelspec": {
      "name": "python3",
      "display_name": "Python 3"
    }
  },
  "cells": [
    {
      "cell_type": "markdown",
      "metadata": {
        "id": "view-in-github",
        "colab_type": "text"
      },
      "source": [
        "<a href=\"https://colab.research.google.com/github/Asuskf/Telegram_Project/blob/main/week1/Intro_python_week_1.ipynb\" target=\"_parent\"><img src=\"https://colab.research.google.com/assets/colab-badge.svg\" alt=\"Open In Colab\"/></a>"
      ]
    },
    {
      "cell_type": "markdown",
      "metadata": {
        "id": "sOMhgkdFm9Ue"
      },
      "source": [
        "# Declaración de variables\n",
        "Es preferible escribir todo el código y comentarios en ingles \n",
        "## Tips para escribir una variable\n",
        "\n",
        "1.   Palabra indescriptible (var) \n",
        "2.   Palabras en minúscula con guiones bajos para mejorar la legibilidad (my_variable)\n",
        "\n",
        "**Nota:** Para el nombre de una variable se puede usar números y letras pero la única condición es que **el nombre empiece con cualquier letra**\n",
        "## Ejemplo\n",
        "\n"
      ]
    },
    {
      "cell_type": "code",
      "metadata": {
        "id": "S-1kqMfJJtrm"
      },
      "source": [
        "name = 'Kevin David Farinango'\n",
        "first_name, middle_name, last_name = name.split()"
      ],
      "execution_count": null,
      "outputs": []
    },
    {
      "cell_type": "code",
      "metadata": {
        "id": "NaShZDo6J4sQ"
      },
      "source": [
        "#name.split()"
      ],
      "execution_count": null,
      "outputs": []
    },
    {
      "cell_type": "code",
      "metadata": {
        "id": "behzth3sJ0jT"
      },
      "source": [
        "#first_name\n",
        "#middle_name\n",
        "#last_name"
      ],
      "execution_count": null,
      "outputs": []
    },
    {
      "cell_type": "markdown",
      "metadata": {
        "id": "hC0plh8_ruJJ"
      },
      "source": [
        "## Variables mas conocidas\n",
        "\n",
        "1.   Cadena\n",
        "2.   Números\n",
        "3.   Lista\n",
        "4.   Tupla\n",
        "5.   Diccionario\n",
        "\n",
        "**Nota:** Usaremos type para saber de que tipo es el objeto o la variable con la cual estamos trabajando"
      ]
    },
    {
      "cell_type": "code",
      "metadata": {
        "id": "CIJcPIojJ9LQ",
        "outputId": "b9f850a6-690e-4d12-bcb8-33abda132767",
        "colab": {
          "base_uri": "https://localhost:8080/",
          "height": 36
        }
      },
      "source": [
        "# Cadena de caracteres\n",
        "print(f'{name} es un tipo de dato {type(name)}')"
      ],
      "execution_count": 35,
      "outputs": [
        {
          "output_type": "stream",
          "text": [
            "Kevin David Farinango es un tipo de dato <class 'str'>\n"
          ],
          "name": "stdout"
        }
      ]
    },
    {
      "cell_type": "code",
      "metadata": {
        "id": "jSHkC9aiK6Yy",
        "outputId": "e484b638-955c-4e5c-dd2e-f500c84bba7b",
        "colab": {
          "base_uri": "https://localhost:8080/",
          "height": 36
        }
      },
      "source": [
        "stature = 1.65\n",
        "print(f'{stature} es un tipo de dato {type(stature)}')"
      ],
      "execution_count": 37,
      "outputs": [
        {
          "output_type": "stream",
          "text": [
            "1.65 es un tipo de dato <class 'float'>\n"
          ],
          "name": "stdout"
        }
      ]
    },
    {
      "cell_type": "code",
      "metadata": {
        "id": "-fnB7dOEKR4_",
        "outputId": "0bb4848a-5761-46b1-ea0e-8ba6e84491d2",
        "colab": {
          "base_uri": "https://localhost:8080/",
          "height": 54
        }
      },
      "source": [
        "date_of_birth = '24/01/97'\n",
        "print(f'{date_of_birth} es de tipo {type(date_of_birth)}')\n",
        "\n",
        "# Plus date\n",
        "from datetime import datetime\n",
        "\n",
        "date_of_birth_2 = datetime.strptime(date_of_birth, '%d/%m/%y')\n",
        "print(f'{date_of_birth_2} es de tipo {type(date_of_birth_2)}')\n",
        "\n"
      ],
      "execution_count": 40,
      "outputs": [
        {
          "output_type": "stream",
          "text": [
            "24/01/97 es de tipo <class 'str'>\n",
            "1997-01-24 00:00:00 es de tipo <class 'datetime.datetime'>\n"
          ],
          "name": "stdout"
        }
      ]
    },
    {
      "cell_type": "code",
      "metadata": {
        "id": "wP50BFEdK3vA"
      },
      "source": [
        "today = datetime.now()      \n",
        "difference_beteween_days = today - date_of_birth_2  \n",
        "years = int(difference_beteween_days.days / 365)\n",
        "print(f\"{years} Años es de tipo {type(years)}\")"
      ],
      "execution_count": null,
      "outputs": []
    },
    {
      "cell_type": "code",
      "metadata": {
        "id": "o2w_JdpzLxxe",
        "outputId": "76808658-070c-45e3-b9fa-b75d449cb6a8",
        "colab": {
          "base_uri": "https://localhost:8080/",
          "height": 54
        }
      },
      "source": [
        "list_of_information = [name, stature, years]\n",
        "print(f'{list_of_information} es un tipo de dato {type(list_of_information)}')\n",
        "\n",
        "list_of_information_2 = (name, stature, years, )\n",
        "print(f'{list_of_information_2} es un tipo de dato {type(list_of_information_2)}')\n"
      ],
      "execution_count": 47,
      "outputs": [
        {
          "output_type": "stream",
          "text": [
            "['Kevin David Farinango', 1.65, 23] es un tipo de dato <class 'list'>\n",
            "('Kevin David Farinango', 1.65, 23) es un tipo de dato <class 'tuple'>\n"
          ],
          "name": "stdout"
        }
      ]
    },
    {
      "cell_type": "markdown",
      "metadata": {
        "id": "p7wxkVwb3-E5"
      },
      "source": [
        "La diferencia primordial entre una lista y una tupla es que la lista es mutable (se puede modificar) la tupla es inmutable (no se puede modificar). **La tupla usa un espacio de memoria y la lista 2**. "
      ]
    },
    {
      "cell_type": "code",
      "metadata": {
        "id": "LuL5MJU6uTZ3",
        "outputId": "ebd17e05-8304-4a5d-ab3b-f2a8a7ad5f4d",
        "colab": {
          "base_uri": "https://localhost:8080/",
          "height": 110
        }
      },
      "source": [
        "list_of_information.append('Avenida Siempreviva 742')\n",
        "list_of_information.append('Avenida Siempreviva 742')\n"
      ],
      "execution_count": 49,
      "outputs": [
        {
          "output_type": "execute_result",
          "data": {
            "text/plain": [
              "['Kevin David Farinango',\n",
              " 1.65,\n",
              " 23,\n",
              " 'Avenida Siempreviva 742',\n",
              " 'Avenida Siempreviva 742']"
            ]
          },
          "metadata": {
            "tags": []
          },
          "execution_count": 49
        }
      ]
    },
    {
      "cell_type": "code",
      "metadata": {
        "id": "cYyA7Pg-Mw2r",
        "outputId": "f9a247d0-a33a-4bb6-ba51-e3bc61edd115",
        "colab": {
          "base_uri": "https://localhost:8080/",
          "height": 110
        }
      },
      "source": [
        "list_of_information"
      ],
      "execution_count": 50,
      "outputs": [
        {
          "output_type": "execute_result",
          "data": {
            "text/plain": [
              "['Kevin David Farinango',\n",
              " 1.65,\n",
              " 23,\n",
              " 'Avenida Siempreviva 742',\n",
              " 'Avenida Siempreviva 742']"
            ]
          },
          "metadata": {
            "tags": []
          },
          "execution_count": 50
        }
      ]
    },
    {
      "cell_type": "code",
      "metadata": {
        "id": "DJEdN4JL5r6z"
      },
      "source": [
        "del list_of_information[-1]"
      ],
      "execution_count": 51,
      "outputs": []
    },
    {
      "cell_type": "code",
      "metadata": {
        "id": "Qx04XfqN5zkx",
        "outputId": "8fb439ef-7f1f-4056-b195-9b4eefb7f6df",
        "colab": {
          "base_uri": "https://localhost:8080/",
          "height": 36
        }
      },
      "source": [
        "list_of_information"
      ],
      "execution_count": 52,
      "outputs": [
        {
          "output_type": "execute_result",
          "data": {
            "text/plain": [
              "['Kevin David Farinango', 1.65, 23, 'Avenida Siempreviva 742']"
            ]
          },
          "metadata": {
            "tags": []
          },
          "execution_count": 52
        }
      ]
    },
    {
      "cell_type": "markdown",
      "metadata": {
        "id": "ZnfPpisl5_B_"
      },
      "source": [
        "Recorrer una lista"
      ]
    },
    {
      "cell_type": "code",
      "metadata": {
        "id": "RFPzZMdn51B1",
        "outputId": "9e4dcd64-d307-4a89-bde9-6b71f47afc7e",
        "colab": {
          "base_uri": "https://localhost:8080/",
          "height": 36
        }
      },
      "source": [
        "#Principio al fin\n",
        "list_of_information[:]\n",
        "\n",
        "#Mismo proceso para la tupla \n",
        "#list_of_information_2[:]"
      ],
      "execution_count": 58,
      "outputs": [
        {
          "output_type": "execute_result",
          "data": {
            "text/plain": [
              "('Kevin David Farinango', 1.65, 23)"
            ]
          },
          "metadata": {
            "tags": []
          },
          "execution_count": 58
        }
      ]
    },
    {
      "cell_type": "code",
      "metadata": {
        "id": "Osneg0Vt6Fua",
        "outputId": "4ab010ec-1e43-4fb0-94df-123292ad28de",
        "colab": {
          "base_uri": "https://localhost:8080/",
          "height": 36
        }
      },
      "source": [
        "#Hasta el penultimo elemento\n",
        "list_of_information[:-1]\n",
        "\n",
        "#Mismo proceso para la tupla \n",
        "#list_of_information_2[:-1]"
      ],
      "execution_count": 61,
      "outputs": [
        {
          "output_type": "execute_result",
          "data": {
            "text/plain": [
              "('Kevin David Farinango', 1.65)"
            ]
          },
          "metadata": {
            "tags": []
          },
          "execution_count": 61
        }
      ]
    },
    {
      "cell_type": "code",
      "metadata": {
        "id": "IOhym4Lt6O3l",
        "outputId": "384e9036-b5f4-484f-f106-c5ccfafa306b",
        "colab": {
          "base_uri": "https://localhost:8080/",
          "height": 36
        }
      },
      "source": [
        "#Poner al reves la lista\n",
        "list_of_information[::-1]\n",
        "\n",
        "#Mismo proceso para la tupla \n",
        "#list_of_information_2[::-1]"
      ],
      "execution_count": 62,
      "outputs": [
        {
          "output_type": "execute_result",
          "data": {
            "text/plain": [
              "['Avenida Siempreviva 742', 23, 1.65, 'Kevin David Farinango']"
            ]
          },
          "metadata": {
            "tags": []
          },
          "execution_count": 62
        }
      ]
    },
    {
      "cell_type": "code",
      "metadata": {
        "id": "x---YO2c6VCX",
        "outputId": "9015bbf3-c131-4a58-ff3f-d909042428f9",
        "colab": {
          "base_uri": "https://localhost:8080/",
          "height": 36
        }
      },
      "source": [
        "#Saltando de uno\n",
        "list_of_information[::2]\n",
        "\n",
        "#Mismo proceso para la tupla \n",
        "#list_of_information_2[::2]"
      ],
      "execution_count": 63,
      "outputs": [
        {
          "output_type": "execute_result",
          "data": {
            "text/plain": [
              "['Kevin David Farinango', 23]"
            ]
          },
          "metadata": {
            "tags": []
          },
          "execution_count": 63
        }
      ]
    },
    {
      "cell_type": "code",
      "metadata": {
        "id": "sIjOim3F7q4W",
        "outputId": "88903c2d-cb08-4579-f04c-f45125c27933",
        "colab": {
          "base_uri": "https://localhost:8080/",
          "height": 110
        }
      },
      "source": [
        "[print(type(element)) for element in list_of_information ]"
      ],
      "execution_count": 70,
      "outputs": [
        {
          "output_type": "stream",
          "text": [
            "<class 'str'>\n",
            "<class 'float'>\n",
            "<class 'int'>\n",
            "<class 'str'>\n"
          ],
          "name": "stdout"
        },
        {
          "output_type": "execute_result",
          "data": {
            "text/plain": [
              "[None, None, None, None]"
            ]
          },
          "metadata": {
            "tags": []
          },
          "execution_count": 70
        }
      ]
    },
    {
      "cell_type": "code",
      "metadata": {
        "id": "yFFgAxRg6dlV"
      },
      "source": [
        "dict_asuskf = {'first_name':first_name, 'middle_name':middle_name, 'last_name':last_name, 'stature':stature, 'years':years}"
      ],
      "execution_count": 64,
      "outputs": []
    },
    {
      "cell_type": "code",
      "metadata": {
        "id": "-gT0AlR57gwL",
        "outputId": "48f3acea-9214-438e-de63-29ba92b9f34c",
        "colab": {
          "base_uri": "https://localhost:8080/",
          "height": 36
        }
      },
      "source": [
        "dict_asuskf['first_name']"
      ],
      "execution_count": 66,
      "outputs": [
        {
          "output_type": "execute_result",
          "data": {
            "application/vnd.google.colaboratory.intrinsic+json": {
              "type": "string"
            },
            "text/plain": [
              "'Kevin'"
            ]
          },
          "metadata": {
            "tags": []
          },
          "execution_count": 66
        }
      ]
    },
    {
      "cell_type": "code",
      "metadata": {
        "id": "-Lqw0E6j7iLy"
      },
      "source": [
        ""
      ],
      "execution_count": null,
      "outputs": []
    }
  ]
}